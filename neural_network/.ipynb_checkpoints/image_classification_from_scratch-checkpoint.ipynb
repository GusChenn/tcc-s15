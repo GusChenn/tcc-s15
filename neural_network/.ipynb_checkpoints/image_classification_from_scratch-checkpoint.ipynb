{
 "cells": [
  {
   "cell_type": "markdown",
   "metadata": {
    "id": "5UEKMgQ-kF4n"
   },
   "source": [
    "# Image classification from scratch\n",
    "\n",
    "**Author:** [fchollet](https://twitter.com/fchollet)<br>\n",
    "**Date created:** 2020/04/27<br>\n",
    "**Last modified:** 2020/04/28<br>\n",
    "**Description:** Training an image classifier from scratch on the Kaggle Cats vs Dogs dataset."
   ]
  },
  {
   "cell_type": "markdown",
   "metadata": {
    "id": "pcMqBTB2kF4q"
   },
   "source": [
    "## Introduction\n",
    "\n",
    "This example shows how to do image classification from scratch, starting from JPEG\n",
    "image files on disk, without leveraging pre-trained weights or a pre-made Keras\n",
    "Application model. We demonstrate the workflow on the Kaggle Cats vs Dogs binary\n",
    " classification dataset.\n",
    "\n",
    "We use the `image_dataset_from_directory` utility to generate the datasets, and\n",
    "we use Keras image preprocessing layers for image standardization and data augmentation."
   ]
  },
  {
   "cell_type": "markdown",
   "metadata": {
    "id": "4eDWunhokF4r"
   },
   "source": [
    "## Setup"
   ]
  },
  {
   "cell_type": "code",
   "execution_count": 1,
   "metadata": {
    "id": "K1TJ_c7ckF4r"
   },
   "outputs": [],
   "source": [
    "import tensorflow as tf\n",
    "from tensorflow import keras\n",
    "from tensorflow.keras import layers"
   ]
  },
  {
   "cell_type": "markdown",
   "metadata": {
    "id": "U8DZs5JTkF4s"
   },
   "source": [
    "## Load the data: the Cats vs Dogs dataset\n",
    "\n",
    "### Raw data download\n",
    "\n",
    "First, let's download the 786M ZIP archive of the raw data:"
   ]
  },
  {
   "cell_type": "code",
   "execution_count": 2,
   "metadata": {
    "id": "O3FRZvMpkF4t"
   },
   "outputs": [
    {
     "name": "stderr",
     "output_type": "stream",
     "text": [
      "  % Total    % Received % Xferd  Average Speed   Time    Time     Time  Current\n",
      "                                 Dload  Upload   Total   Spent    Left  Speed\n",
      "\n",
      "  0     0    0     0    0     0      0      0 --:--:-- --:--:-- --:--:--     0\n",
      "  0     0    0     0    0     0      0      0 --:--:-- --:--:-- --:--:--     0\n",
      "  0  786M    0 6937k    0     0  4818k      0  0:02:47  0:00:01  0:02:46 4817k\n",
      "  2  786M    2 18.0M    0     0  7559k      0  0:01:46  0:00:02  0:01:44 7558k\n",
      "  3  786M    3 29.3M    0     0  8735k      0  0:01:32  0:00:03  0:01:29 8734k\n",
      "  5  786M    5 40.3M    0     0  9316k      0  0:01:26  0:00:04  0:01:22 9315k\n",
      "  6  786M    6 51.6M    0     0  9713k      0  0:01:22  0:00:05  0:01:17 10.3M\n",
      "  7  786M    7 62.8M    0     0   9.7M      0  0:01:20  0:00:06  0:01:14 11.2M\n",
      "  9  786M    9 73.8M    0     0   9.9M      0  0:01:19  0:00:07  0:01:12 11.1M\n",
      " 10  786M   10 85.0M    0     0  10.0M      0  0:01:18  0:00:08  0:01:10 11.1M\n",
      " 12  786M   12 96.3M    0     0  10.2M      0  0:01:17  0:00:09  0:01:08 11.1M\n",
      " 13  786M   13  107M    0     0  10.3M      0  0:01:16  0:00:10  0:01:06 11.2M\n",
      " 15  786M   15  118M    0     0  10.3M      0  0:01:15  0:00:11  0:01:04 11.2M\n",
      " 16  786M   16  130M    0     0  10.4M      0  0:01:15  0:00:12  0:01:03 11.2M\n",
      " 17  786M   17  141M    0     0  10.5M      0  0:01:14  0:00:13  0:01:01 11.2M\n",
      " 19  786M   19  152M    0     0  10.5M      0  0:01:14  0:00:14  0:01:00 11.2M\n",
      " 20  786M   20  163M    0     0  10.6M      0  0:01:14  0:00:15  0:00:59 11.2M\n",
      " 22  786M   22  175M    0     0  10.6M      0  0:01:13  0:00:16  0:00:57 11.2M\n",
      " 23  786M   23  186M    0     0  10.6M      0  0:01:13  0:00:17  0:00:56 11.2M\n",
      " 25  786M   25  197M    0     0  10.7M      0  0:01:13  0:00:18  0:00:55 11.2M\n",
      " 26  786M   26  208M    0     0  10.7M      0  0:01:13  0:00:19  0:00:54 11.2M\n",
      " 27  786M   27  220M    0     0  10.7M      0  0:01:13  0:00:20  0:00:53 11.2M\n",
      " 29  786M   29  231M    0     0  10.7M      0  0:01:12  0:00:21  0:00:51 11.2M\n",
      " 30  786M   30  241M    0     0  10.7M      0  0:01:13  0:00:22  0:00:51 10.9M\n",
      " 32  786M   32  252M    0     0  10.7M      0  0:01:13  0:00:23  0:00:50 10.8M\n",
      " 33  786M   33  263M    0     0  10.7M      0  0:01:12  0:00:24  0:00:48 10.8M\n",
      " 34  786M   34  274M    0     0  10.7M      0  0:01:12  0:00:25  0:00:47 10.9M\n",
      " 36  786M   36  285M    0     0  10.8M      0  0:01:12  0:00:26  0:00:46 10.9M\n",
      " 37  786M   37  297M    0     0  10.8M      0  0:01:12  0:00:27  0:00:45 11.2M\n",
      " 39  786M   39  308M    0     0  10.8M      0  0:01:12  0:00:28  0:00:44 11.2M\n",
      " 40  786M   40  319M    0     0  10.8M      0  0:01:12  0:00:29  0:00:43 11.2M\n",
      " 42  786M   42  330M    0     0  10.8M      0  0:01:12  0:00:30  0:00:42 11.2M\n",
      " 43  786M   43  341M    0     0  10.8M      0  0:01:12  0:00:31  0:00:41 11.1M\n",
      " 44  786M   44  350M    0     0  10.8M      0  0:01:12  0:00:32  0:00:40 10.7M\n",
      " 46  786M   46  362M    0     0  10.8M      0  0:01:12  0:00:33  0:00:39 10.7M\n",
      " 47  786M   47  372M    0     0  10.8M      0  0:01:12  0:00:34  0:00:38 10.5M\n",
      " 48  786M   48  383M    0     0  10.8M      0  0:01:12  0:00:35  0:00:37 10.5M\n",
      " 50  786M   50  394M    0     0  10.8M      0  0:01:12  0:00:36  0:00:36 10.6M\n",
      " 51  786M   51  405M    0     0  10.8M      0  0:01:12  0:00:37  0:00:35 10.9M\n",
      " 52  786M   52  416M    0     0  10.8M      0  0:01:12  0:00:38  0:00:34 10.9M\n",
      " 54  786M   54  427M    0     0  10.8M      0  0:01:12  0:00:39  0:00:33 11.0M\n",
      " 55  786M   55  439M    0     0  10.8M      0  0:01:12  0:00:40  0:00:32 11.0M\n",
      " 57  786M   57  450M    0     0  10.8M      0  0:01:12  0:00:41  0:00:31 11.0M\n",
      " 58  786M   58  461M    0     0  10.8M      0  0:01:12  0:00:42  0:00:30 11.1M\n",
      " 60  786M   60  472M    0     0  10.8M      0  0:01:12  0:00:43  0:00:29 11.1M\n",
      " 61  786M   61  483M    0     0  10.8M      0  0:01:12  0:00:44  0:00:28 11.2M\n",
      " 62  786M   62  495M    0     0  10.8M      0  0:01:12  0:00:45  0:00:27 11.2M\n",
      " 64  786M   64  506M    0     0  10.9M      0  0:01:12  0:00:46  0:00:26 11.2M\n",
      " 65  786M   65  517M    0     0  10.9M      0  0:01:12  0:00:47  0:00:25 11.2M\n",
      " 67  786M   67  528M    0     0  10.9M      0  0:01:12  0:00:48  0:00:24 11.2M\n",
      " 68  786M   68  539M    0     0  10.9M      0  0:01:12  0:00:49  0:00:23 11.1M\n",
      " 70  786M   70  551M    0     0  10.9M      0  0:01:11  0:00:50  0:00:21 11.2M\n",
      " 71  786M   71  562M    0     0  10.9M      0  0:01:11  0:00:51  0:00:20 11.2M\n",
      " 72  786M   72  573M    0     0  10.9M      0  0:01:11  0:00:52  0:00:19 11.2M\n",
      " 74  786M   74  584M    0     0  10.9M      0  0:01:11  0:00:53  0:00:18 11.1M\n",
      " 75  786M   75  595M    0     0  10.9M      0  0:01:11  0:00:54  0:00:17 11.0M\n",
      " 77  786M   77  606M    0     0  10.9M      0  0:01:11  0:00:55  0:00:16 11.0M\n",
      " 78  786M   78  617M    0     0  10.9M      0  0:01:11  0:00:56  0:00:15 11.0M\n",
      " 79  786M   79  628M    0     0  10.9M      0  0:01:11  0:00:57  0:00:14 11.0M\n",
      " 81  786M   81  640M    0     0  10.9M      0  0:01:11  0:00:58  0:00:13 11.0M\n",
      " 82  786M   82  651M    0     0  10.9M      0  0:01:11  0:00:59  0:00:12 11.2M\n",
      " 84  786M   84  662M    0     0  10.9M      0  0:01:11  0:01:00  0:00:11 11.2M\n",
      " 85  786M   85  673M    0     0  10.9M      0  0:01:11  0:01:01  0:00:10 11.2M\n",
      " 87  786M   87  685M    0     0  10.9M      0  0:01:11  0:01:02  0:00:09 11.2M\n",
      " 88  786M   88  696M    0     0  10.9M      0  0:01:11  0:01:03  0:00:08 11.2M\n",
      " 89  786M   89  706M    0     0  10.9M      0  0:01:11  0:01:04  0:00:07 11.0M\n",
      " 91  786M   91  718M    0     0  10.9M      0  0:01:11  0:01:05  0:00:06 11.0M\n",
      " 92  786M   92  729M    0     0  10.9M      0  0:01:11  0:01:06  0:00:05 11.0M\n",
      " 94  786M   94  740M    0     0  10.9M      0  0:01:11  0:01:07  0:00:04 11.0M\n",
      " 95  786M   95  751M    0     0  10.9M      0  0:01:11  0:01:08  0:00:03 11.0M\n",
      " 96  786M   96  762M    0     0  10.9M      0  0:01:11  0:01:09  0:00:02 11.2M\n",
      " 98  786M   98  774M    0     0  10.9M      0  0:01:11  0:01:10  0:00:01 11.2M\n",
      " 99  786M   99  783M    0     0  10.9M      0  0:01:11  0:01:11 --:--:-- 10.8M\n",
      "100  786M  100  786M    0     0  10.9M      0  0:01:11  0:01:11 --:--:-- 10.8M\n"
     ]
    }
   ],
   "source": [
    "!curl -O https://download.microsoft.com/download/3/E/1/3E1C3F21-ECDB-4869-8368-6DEBA77B919F/kagglecatsanddogs_5340.zip"
   ]
  },
  {
   "cell_type": "code",
   "execution_count": null,
   "metadata": {
    "id": "jodqx6ApkF4t"
   },
   "outputs": [],
   "source": [
    "!unzip -q kagglecatsanddogs_5340.zip\n",
    "!ls"
   ]
  },
  {
   "cell_type": "markdown",
   "metadata": {
    "id": "jHFZoZKLkF4t"
   },
   "source": [
    "Now we have a `PetImages` folder which contain two subfolders, `Cat` and `Dog`. Each\n",
    " subfolder contains image files for each category."
   ]
  },
  {
   "cell_type": "code",
   "execution_count": null,
   "metadata": {
    "id": "k3TpsMzWkF4u"
   },
   "outputs": [],
   "source": [
    "!ls PetImages"
   ]
  },
  {
   "cell_type": "markdown",
   "metadata": {
    "id": "lFn7kAcgkF4u"
   },
   "source": [
    "### Filter out corrupted images\n",
    "\n",
    "When working with lots of real-world image data, corrupted images are a common\n",
    "occurence. Let's filter out badly-encoded images that do not feature the string \"JFIF\"\n",
    "in their header."
   ]
  },
  {
   "cell_type": "code",
   "execution_count": null,
   "metadata": {
    "id": "pt1WY904kF4v"
   },
   "outputs": [],
   "source": [
    "import os\n",
    "\n",
    "num_skipped = 0\n",
    "for folder_name in (\"Cat\", \"Dog\"):\n",
    "    folder_path = os.path.join(\"PetImages\", folder_name)\n",
    "    for fname in os.listdir(folder_path):\n",
    "        fpath = os.path.join(folder_path, fname)\n",
    "        try:\n",
    "            fobj = open(fpath, \"rb\")\n",
    "            is_jfif = tf.compat.as_bytes(\"JFIF\") in fobj.peek(10)\n",
    "        finally:\n",
    "            fobj.close()\n",
    "\n",
    "        if not is_jfif:\n",
    "            num_skipped += 1\n",
    "            # Delete corrupted image\n",
    "            os.remove(fpath)\n",
    "\n",
    "print(\"Deleted %d images\" % num_skipped)"
   ]
  },
  {
   "cell_type": "markdown",
   "metadata": {
    "id": "J61JD2L_kF4v"
   },
   "source": [
    "## Generate a `Dataset`"
   ]
  },
  {
   "cell_type": "code",
   "execution_count": null,
   "metadata": {
    "id": "4_E2thnKkF4v"
   },
   "outputs": [],
   "source": [
    "image_size = (180, 180)\n",
    "batch_size = 32\n",
    "\n",
    "train_ds = tf.keras.preprocessing.image_dataset_from_directory(\n",
    "    \"PetImages\",\n",
    "    validation_split=0.2,\n",
    "    subset=\"training\",\n",
    "    seed=1337,\n",
    "    image_size=image_size,\n",
    "    batch_size=batch_size,\n",
    ")\n",
    "val_ds = tf.keras.preprocessing.image_dataset_from_directory(\n",
    "    \"PetImages\",\n",
    "    validation_split=0.2,\n",
    "    subset=\"validation\",\n",
    "    seed=1337,\n",
    "    image_size=image_size,\n",
    "    batch_size=batch_size,\n",
    ")"
   ]
  },
  {
   "cell_type": "markdown",
   "metadata": {
    "id": "ockAbPlJkF4v"
   },
   "source": [
    "## Visualize the data\n",
    "\n",
    "Here are the first 9 images in the training dataset. As you can see, label 1 is \"dog\"\n",
    "and label 0 is \"cat\"."
   ]
  },
  {
   "cell_type": "code",
   "execution_count": null,
   "metadata": {
    "id": "yE0RjjOhkF4w"
   },
   "outputs": [],
   "source": [
    "import matplotlib.pyplot as plt\n",
    "\n",
    "plt.figure(figsize=(10, 10))\n",
    "for images, labels in train_ds.take(1):\n",
    "    for i in range(9):\n",
    "        ax = plt.subplot(3, 3, i + 1)\n",
    "        plt.imshow(images[i].numpy().astype(\"uint8\"))\n",
    "        plt.title(int(labels[i]))\n",
    "        plt.axis(\"off\")"
   ]
  },
  {
   "cell_type": "markdown",
   "metadata": {
    "id": "3U5B_5FSkF4w"
   },
   "source": [
    "## Using image data augmentation\n",
    "\n",
    "When you don't have a large image dataset, it's a good practice to artificially\n",
    "introduce sample diversity by applying random yet realistic transformations to the\n",
    "training images, such as random horizontal flipping or small random rotations. This\n",
    "helps expose the model to different aspects of the training data while slowing down\n",
    "overfitting."
   ]
  },
  {
   "cell_type": "code",
   "execution_count": null,
   "metadata": {
    "id": "lAeCyUfFkF4w"
   },
   "outputs": [],
   "source": [
    "data_augmentation = keras.Sequential(\n",
    "    [\n",
    "        layers.RandomFlip(\"horizontal\"),\n",
    "        layers.RandomRotation(0.1),\n",
    "    ]\n",
    ")"
   ]
  },
  {
   "cell_type": "markdown",
   "metadata": {
    "id": "uwWMfgxikF4x"
   },
   "source": [
    "Let's visualize what the augmented samples look like, by applying `data_augmentation`\n",
    "repeatedly to the first image in the dataset:"
   ]
  },
  {
   "cell_type": "code",
   "execution_count": null,
   "metadata": {
    "id": "j8DmCCGpkF4x"
   },
   "outputs": [],
   "source": [
    "plt.figure(figsize=(10, 10))\n",
    "for images, _ in train_ds.take(1):\n",
    "    for i in range(9):\n",
    "        augmented_images = data_augmentation(images)\n",
    "        ax = plt.subplot(3, 3, i + 1)\n",
    "        plt.imshow(augmented_images[0].numpy().astype(\"uint8\"))\n",
    "        plt.axis(\"off\")"
   ]
  },
  {
   "cell_type": "markdown",
   "metadata": {
    "id": "Rsz5NK_SkF4x"
   },
   "source": [
    "## Standardizing the data\n",
    "\n",
    "Our image are already in a standard size (180x180), as they are being yielded as\n",
    "contiguous `float32` batches by our dataset. However, their RGB channel values are in\n",
    "the `[0, 255]` range. This is not ideal for a neural network;\n",
    "in general you should seek to make your input values small. Here, we will\n",
    "standardize values to be in the `[0, 1]` by using a `Rescaling` layer at the start of\n",
    "our model."
   ]
  },
  {
   "cell_type": "markdown",
   "metadata": {
    "id": "WzeTTC8EkF4x"
   },
   "source": [
    "## Two options to preprocess the data\n",
    "\n",
    "There are two ways you could be using the `data_augmentation` preprocessor:\n",
    "\n",
    "**Option 1: Make it part of the model**, like this:\n",
    "\n",
    "```python\n",
    "inputs = keras.Input(shape=input_shape)\n",
    "x = data_augmentation(inputs)\n",
    "x = layers.Rescaling(1./255)(x)\n",
    "...  # Rest of the model\n",
    "```\n",
    "\n",
    "With this option, your data augmentation will happen *on device*, synchronously\n",
    "with the rest of the model execution, meaning that it will benefit from GPU\n",
    "acceleration.\n",
    "\n",
    "Note that data augmentation is inactive at test time, so the input samples will only be\n",
    "augmented during `fit()`, not when calling `evaluate()` or `predict()`.\n",
    "\n",
    "If you're training on GPU, this may be a good option.\n",
    "\n",
    "**Option 2: apply it to the dataset**, so as to obtain a dataset that yields batches of\n",
    "augmented images, like this:\n",
    "\n",
    "```python\n",
    "augmented_train_ds = train_ds.map(\n",
    "    lambda x, y: (data_augmentation(x, training=True), y))\n",
    "```\n",
    "\n",
    "With this option, your data augmentation will happen **on CPU**, asynchronously, and will\n",
    "be buffered before going into the model.\n",
    "\n",
    "If you're training on CPU, this is the better option, since it makes data augmentation\n",
    "asynchronous and non-blocking.\n",
    "\n",
    "In our case, we'll go with the second option. If you're not sure\n",
    "which one to pick, this second option (asynchronous preprocessing) is always a solid choice."
   ]
  },
  {
   "cell_type": "markdown",
   "metadata": {
    "id": "bQrDfQR9kF4x"
   },
   "source": [
    "## Configure the dataset for performance\n",
    "\n",
    "Let's make sure to use buffered prefetching so we can yield data from disk without\n",
    "having I/O becoming blocking:"
   ]
  },
  {
   "cell_type": "code",
   "execution_count": null,
   "metadata": {
    "id": "nvnCaYuikF4y"
   },
   "outputs": [],
   "source": [
    "train_ds = train_ds.prefetch(buffer_size=32)\n",
    "val_ds = val_ds.prefetch(buffer_size=32)"
   ]
  },
  {
   "cell_type": "markdown",
   "metadata": {
    "id": "Gh0D8J_HkF4y"
   },
   "source": [
    "## Build a model\n",
    "\n",
    "We'll build a small version of the Xception network. We haven't particularly tried to\n",
    "optimize the architecture; if you want to do a systematic search for the best model\n",
    " configuration, consider using\n",
    "[KerasTuner](https://github.com/keras-team/keras-tuner).\n",
    "\n",
    "Note that:\n",
    "\n",
    "- We start the model with the `data_augmentation` preprocessor, followed by a\n",
    " `Rescaling` layer.\n",
    "- We include a `Dropout` layer before the final classification layer."
   ]
  },
  {
   "cell_type": "code",
   "execution_count": null,
   "metadata": {
    "id": "GoMa7FVfkF4y"
   },
   "outputs": [],
   "source": [
    "\n",
    "def make_model(input_shape, num_classes):\n",
    "    inputs = keras.Input(shape=input_shape)\n",
    "\n",
    "    # Entry block\n",
    "    x = layers.Rescaling(1.0 / 255)(inputs)\n",
    "    x = layers.Conv2D(32, 3, strides=2, padding=\"same\")(x)\n",
    "    x = layers.BatchNormalization()(x)\n",
    "    x = layers.Activation(\"relu\")(x)\n",
    "\n",
    "    x = layers.Conv2D(64, 3, padding=\"same\")(x)\n",
    "    x = layers.BatchNormalization()(x)\n",
    "    x = layers.Activation(\"relu\")(x)\n",
    "\n",
    "    previous_block_activation = x  # Set aside residual\n",
    "\n",
    "    for size in [128, 256, 512, 728]:\n",
    "        x = layers.Activation(\"relu\")(x)\n",
    "        x = layers.SeparableConv2D(size, 3, padding=\"same\")(x)\n",
    "        x = layers.BatchNormalization()(x)\n",
    "\n",
    "        x = layers.Activation(\"relu\")(x)\n",
    "        x = layers.SeparableConv2D(size, 3, padding=\"same\")(x)\n",
    "        x = layers.BatchNormalization()(x)\n",
    "\n",
    "        x = layers.MaxPooling2D(3, strides=2, padding=\"same\")(x)\n",
    "\n",
    "        # Project residual\n",
    "        residual = layers.Conv2D(size, 1, strides=2, padding=\"same\")(\n",
    "            previous_block_activation\n",
    "        )\n",
    "        x = layers.add([x, residual])  # Add back residual\n",
    "        previous_block_activation = x  # Set aside next residual\n",
    "\n",
    "    x = layers.SeparableConv2D(1024, 3, padding=\"same\")(x)\n",
    "    x = layers.BatchNormalization()(x)\n",
    "    x = layers.Activation(\"relu\")(x)\n",
    "\n",
    "    x = layers.GlobalAveragePooling2D()(x)\n",
    "    if num_classes == 2:\n",
    "        activation = \"sigmoid\"\n",
    "        units = 1\n",
    "    else:\n",
    "        activation = \"softmax\"\n",
    "        units = num_classes\n",
    "\n",
    "    x = layers.Dropout(0.5)(x)\n",
    "    outputs = layers.Dense(units, activation=activation)(x)\n",
    "    return keras.Model(inputs, outputs)\n",
    "\n",
    "\n",
    "model = make_model(input_shape=image_size + (3,), num_classes=2)\n",
    "keras.utils.plot_model(model, show_shapes=True)"
   ]
  },
  {
   "cell_type": "markdown",
   "metadata": {
    "id": "_YhUy5hrkF4y"
   },
   "source": [
    "And let's apply data augmentation to our training dataset:"
   ]
  },
  {
   "cell_type": "code",
   "execution_count": null,
   "metadata": {
    "id": "q4YP2T7VkF4y"
   },
   "outputs": [],
   "source": [
    "# Apply `data_augmentation` to the training images.\n",
    "train_ds = train_ds.map(\n",
    "    lambda img, label: (data_augmentation(img), label),\n",
    "    num_parallel_calls=tf.data.AUTOTUNE,\n",
    ")\n",
    "# Prefetching samples in GPU memory helps maximize GPU utilization.\n",
    "train_ds = train_ds.prefetch(tf.data.AUTOTUNE)"
   ]
  },
  {
   "cell_type": "markdown",
   "metadata": {
    "id": "bjatWw1pkF4z"
   },
   "source": [
    "## Train the model"
   ]
  },
  {
   "cell_type": "code",
   "execution_count": null,
   "metadata": {
    "id": "Ucgf3B3IkF4z"
   },
   "outputs": [],
   "source": [
    "epochs = 50\n",
    "\n",
    "callbacks = [\n",
    "    keras.callbacks.ModelCheckpoint(\"save_at_{epoch}.keras\"),\n",
    "]\n",
    "model.compile(\n",
    "    optimizer=keras.optimizers.Adam(1e-3),\n",
    "    loss=\"binary_crossentropy\",\n",
    "    metrics=[\"accuracy\"],\n",
    ")\n",
    "model.fit(\n",
    "    train_ds,\n",
    "    epochs=epochs,\n",
    "    callbacks=callbacks,\n",
    "    validation_data=val_ds,\n",
    ")"
   ]
  },
  {
   "cell_type": "markdown",
   "metadata": {
    "id": "7HImcwl_kF4z"
   },
   "source": [
    "We get to ~96% validation accuracy after training for 50 epochs on the full dataset."
   ]
  },
  {
   "cell_type": "markdown",
   "metadata": {
    "id": "00GxiA0gkF4z"
   },
   "source": [
    "## Run inference on new data\n",
    "\n",
    "Note that data augmentation and dropout are inactive at inference time."
   ]
  },
  {
   "cell_type": "code",
   "execution_count": null,
   "metadata": {
    "id": "A0y-9VRYkF4z"
   },
   "outputs": [],
   "source": [
    "img = keras.preprocessing.image.load_img(\n",
    "    \"PetImages/Cat/6779.jpg\", target_size=image_size\n",
    ")\n",
    "img_array = keras.preprocessing.image.img_to_array(img)\n",
    "img_array = tf.expand_dims(img_array, 0)  # Create batch axis\n",
    "\n",
    "predictions = model.predict(img_array)\n",
    "score = predictions[0]\n",
    "print(f\"This image is {100 * (1 - score):.2f}% cat and {100 * score:.2f}% dog.\")"
   ]
  }
 ],
 "metadata": {
  "colab": {
   "collapsed_sections": [],
   "name": "image_classification_from_scratch",
   "provenance": [],
   "toc_visible": true
  },
  "kernelspec": {
   "display_name": "Python 3 (ipykernel)",
   "language": "python",
   "name": "python3"
  },
  "language_info": {
   "codemirror_mode": {
    "name": "ipython",
    "version": 3
   },
   "file_extension": ".py",
   "mimetype": "text/x-python",
   "name": "python",
   "nbconvert_exporter": "python",
   "pygments_lexer": "ipython3",
   "version": "3.9.13"
  }
 },
 "nbformat": 4,
 "nbformat_minor": 1
}
